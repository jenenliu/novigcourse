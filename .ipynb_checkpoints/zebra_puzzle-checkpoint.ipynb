{
 "cells": [
  {
   "cell_type": "code",
   "execution_count": 1,
   "metadata": {},
   "outputs": [],
   "source": [
    "import itertools"
   ]
  },
  {
   "cell_type": "code",
   "execution_count": 2,
   "metadata": {},
   "outputs": [],
   "source": [
    "def imright(h1, h2):\n",
    "    \"House h1 is immediately right of h2 if h1-h2 == 1.\"\n",
    "    return h1-h2 == 1\n",
    "\n",
    "def nextto(h1, h2):\n",
    "    \"Two houses are next to each other if they differ by 1.\"\n",
    "    return abs(h1-h2) == 1"
   ]
  },
  {
   "cell_type": "code",
   "execution_count": 3,
   "metadata": {},
   "outputs": [],
   "source": [
    "def c(sequence):\n",
    "    \"\"\"Generate items in sequence; keeping counts as we go. c.starts is the\n",
    "    number of sequences started; c.items is the number of items genreated.\"\"\"\n",
    "    c.starts += 1\n",
    "    for item in sequence:\n",
    "        c.items += 1\n",
    "        yield item"
   ]
  },
  {
   "cell_type": "code",
   "execution_count": 4,
   "metadata": {},
   "outputs": [],
   "source": [
    "def zero_puzzle():\n",
    "    \"Return a tuple (WATER, ZEBRA) indicating their house numbers.\"\n",
    "    houses = first, _, middle, _, _ = [1,2,3,4,5]\n",
    "    orderings = list(itertools.permutations(houses)) #1\n",
    "    return next((WATER, ZEBRA)\n",
    "               for (red, green, ivory, yellow, blue) in c(orderings)\n",
    "               if imright(green, ivory)\n",
    "               for (Englishman, Spaniard, Ukranian, Japanese, Norwegian) in c(orderings)\n",
    "               if Englishman is red\n",
    "               if Norwegian is first\n",
    "               if nextto(Norwegian, blue)\n",
    "               for (dog, snails, fox, horse, ZEBRA) in c(orderings)\n",
    "               if Spaniard is dog\n",
    "               for (coffee, tea, milk, oj, WATER) in c(orderings)\n",
    "               if coffee is green\n",
    "               if Ukranian is tea\n",
    "               if milk is middle\n",
    "               for (OldGold, Kools, Chesterfields, LuckyStrike, Parliaments) in c(orderings)\n",
    "               if OldGold is snails\n",
    "               if Kools is yellow\n",
    "               if nextto(Chesterfields, fox)\n",
    "               if nextto(Kools, horse)\n",
    "               if LuckyStrike is oj\n",
    "               )"
   ]
  },
  {
   "cell_type": "code",
   "execution_count": 5,
   "metadata": {},
   "outputs": [
    {
     "ename": "AttributeError",
     "evalue": "'function' object has no attribute 'starts'",
     "output_type": "error",
     "traceback": [
      "\u001b[0;31m---------------------------------------------------------------------------\u001b[0m",
      "\u001b[0;31mAttributeError\u001b[0m                            Traceback (most recent call last)",
      "\u001b[0;32m<ipython-input-5-88f9b1d0cf6d>\u001b[0m in \u001b[0;36m<module>\u001b[0;34m()\u001b[0m\n\u001b[1;32m     23\u001b[0m     \u001b[0;32mreturn\u001b[0m \u001b[0msum\u001b[0m\u001b[0;34m(\u001b[0m\u001b[0mnumbers\u001b[0m\u001b[0;34m)\u001b[0m \u001b[0;34m/\u001b[0m \u001b[0mfloat\u001b[0m\u001b[0;34m(\u001b[0m\u001b[0mlen\u001b[0m\u001b[0;34m(\u001b[0m\u001b[0mnumbers\u001b[0m\u001b[0;34m)\u001b[0m\u001b[0;34m)\u001b[0m\u001b[0;34m\u001b[0m\u001b[0m\n\u001b[1;32m     24\u001b[0m \u001b[0;34m\u001b[0m\u001b[0m\n\u001b[0;32m---> 25\u001b[0;31m \u001b[0;32mprint\u001b[0m\u001b[0;34m(\u001b[0m\u001b[0mtimedcalls\u001b[0m\u001b[0;34m(\u001b[0m\u001b[0;36m1.1\u001b[0m\u001b[0;34m,\u001b[0m \u001b[0mzero_puzzle\u001b[0m\u001b[0;34m)\u001b[0m\u001b[0;34m)\u001b[0m\u001b[0;34m\u001b[0m\u001b[0m\n\u001b[0m\u001b[1;32m     26\u001b[0m \u001b[0;34m\u001b[0m\u001b[0m\n\u001b[1;32m     27\u001b[0m \u001b[0;32mdef\u001b[0m \u001b[0minstrument_fn\u001b[0m\u001b[0;34m(\u001b[0m\u001b[0mfn\u001b[0m\u001b[0;34m,\u001b[0m \u001b[0;34m*\u001b[0m\u001b[0margs\u001b[0m\u001b[0;34m)\u001b[0m\u001b[0;34m:\u001b[0m\u001b[0;34m\u001b[0m\u001b[0m\n",
      "\u001b[0;32m<ipython-input-5-88f9b1d0cf6d>\u001b[0m in \u001b[0;36mtimedcalls\u001b[0;34m(n, fn, *args)\u001b[0m\n\u001b[1;32m     16\u001b[0m         \u001b[0mtimes\u001b[0m \u001b[0;34m=\u001b[0m \u001b[0;34m[\u001b[0m\u001b[0;34m]\u001b[0m\u001b[0;34m\u001b[0m\u001b[0m\n\u001b[1;32m     17\u001b[0m         \u001b[0;32mwhile\u001b[0m \u001b[0msum\u001b[0m\u001b[0;34m(\u001b[0m\u001b[0mtimes\u001b[0m\u001b[0;34m)\u001b[0m \u001b[0;34m<=\u001b[0m \u001b[0mn\u001b[0m\u001b[0;34m:\u001b[0m\u001b[0;34m\u001b[0m\u001b[0m\n\u001b[0;32m---> 18\u001b[0;31m             \u001b[0mtimes\u001b[0m\u001b[0;34m.\u001b[0m\u001b[0mappend\u001b[0m\u001b[0;34m(\u001b[0m\u001b[0mtimedcall\u001b[0m\u001b[0;34m(\u001b[0m\u001b[0mfn\u001b[0m\u001b[0;34m,\u001b[0m \u001b[0;34m*\u001b[0m\u001b[0margs\u001b[0m\u001b[0;34m)\u001b[0m\u001b[0;34m[\u001b[0m\u001b[0;36m0\u001b[0m\u001b[0;34m]\u001b[0m\u001b[0;34m)\u001b[0m\u001b[0;34m\u001b[0m\u001b[0m\n\u001b[0m\u001b[1;32m     19\u001b[0m     \u001b[0;32mreturn\u001b[0m \u001b[0mmin\u001b[0m\u001b[0;34m(\u001b[0m\u001b[0mtimes\u001b[0m\u001b[0;34m)\u001b[0m\u001b[0;34m,\u001b[0m \u001b[0maverage\u001b[0m\u001b[0;34m(\u001b[0m\u001b[0mtimes\u001b[0m\u001b[0;34m)\u001b[0m\u001b[0;34m,\u001b[0m \u001b[0mmax\u001b[0m\u001b[0;34m(\u001b[0m\u001b[0mtimes\u001b[0m\u001b[0;34m)\u001b[0m\u001b[0;34m\u001b[0m\u001b[0m\n\u001b[1;32m     20\u001b[0m \u001b[0;34m\u001b[0m\u001b[0m\n",
      "\u001b[0;32m<ipython-input-5-88f9b1d0cf6d>\u001b[0m in \u001b[0;36mtimedcall\u001b[0;34m(fn, *args)\u001b[0m\n\u001b[1;32m      4\u001b[0m     \u001b[0;34m\"Call function with args; return the time in seconds and result.\"\u001b[0m\u001b[0;34m\u001b[0m\u001b[0m\n\u001b[1;32m      5\u001b[0m     \u001b[0mt0\u001b[0m \u001b[0;34m=\u001b[0m \u001b[0mtime\u001b[0m\u001b[0;34m.\u001b[0m\u001b[0mclock\u001b[0m\u001b[0;34m(\u001b[0m\u001b[0;34m)\u001b[0m\u001b[0;34m\u001b[0m\u001b[0m\n\u001b[0;32m----> 6\u001b[0;31m     \u001b[0mresult\u001b[0m \u001b[0;34m=\u001b[0m \u001b[0mfn\u001b[0m\u001b[0;34m(\u001b[0m\u001b[0;34m*\u001b[0m\u001b[0margs\u001b[0m\u001b[0;34m)\u001b[0m\u001b[0;34m\u001b[0m\u001b[0m\n\u001b[0m\u001b[1;32m      7\u001b[0m     \u001b[0mt1\u001b[0m \u001b[0;34m=\u001b[0m \u001b[0mtime\u001b[0m\u001b[0;34m.\u001b[0m\u001b[0mclock\u001b[0m\u001b[0;34m(\u001b[0m\u001b[0;34m)\u001b[0m\u001b[0;34m\u001b[0m\u001b[0m\n\u001b[1;32m      8\u001b[0m     \u001b[0;32mreturn\u001b[0m \u001b[0mt1\u001b[0m\u001b[0;34m-\u001b[0m\u001b[0mt0\u001b[0m\u001b[0;34m,\u001b[0m \u001b[0mresult\u001b[0m\u001b[0;34m\u001b[0m\u001b[0m\n",
      "\u001b[0;32m<ipython-input-4-231a52b00d3a>\u001b[0m in \u001b[0;36mzero_puzzle\u001b[0;34m()\u001b[0m\n\u001b[1;32m      4\u001b[0m     \u001b[0morderings\u001b[0m \u001b[0;34m=\u001b[0m \u001b[0mlist\u001b[0m\u001b[0;34m(\u001b[0m\u001b[0mitertools\u001b[0m\u001b[0;34m.\u001b[0m\u001b[0mpermutations\u001b[0m\u001b[0;34m(\u001b[0m\u001b[0mhouses\u001b[0m\u001b[0;34m)\u001b[0m\u001b[0;34m)\u001b[0m \u001b[0;31m#1\u001b[0m\u001b[0;34m\u001b[0m\u001b[0m\n\u001b[1;32m      5\u001b[0m     return next((WATER, ZEBRA)\n\u001b[0;32m----> 6\u001b[0;31m                \u001b[0;32mfor\u001b[0m \u001b[0;34m(\u001b[0m\u001b[0mred\u001b[0m\u001b[0;34m,\u001b[0m \u001b[0mgreen\u001b[0m\u001b[0;34m,\u001b[0m \u001b[0mivory\u001b[0m\u001b[0;34m,\u001b[0m \u001b[0myellow\u001b[0m\u001b[0;34m,\u001b[0m \u001b[0mblue\u001b[0m\u001b[0;34m)\u001b[0m \u001b[0;32min\u001b[0m \u001b[0mc\u001b[0m\u001b[0;34m(\u001b[0m\u001b[0morderings\u001b[0m\u001b[0;34m)\u001b[0m\u001b[0;34m\u001b[0m\u001b[0m\n\u001b[0m\u001b[1;32m      7\u001b[0m                \u001b[0;32mif\u001b[0m \u001b[0mimright\u001b[0m\u001b[0;34m(\u001b[0m\u001b[0mgreen\u001b[0m\u001b[0;34m,\u001b[0m \u001b[0mivory\u001b[0m\u001b[0;34m)\u001b[0m\u001b[0;34m\u001b[0m\u001b[0m\n\u001b[1;32m      8\u001b[0m                \u001b[0;32mfor\u001b[0m \u001b[0;34m(\u001b[0m\u001b[0mEnglishman\u001b[0m\u001b[0;34m,\u001b[0m \u001b[0mSpaniard\u001b[0m\u001b[0;34m,\u001b[0m \u001b[0mUkranian\u001b[0m\u001b[0;34m,\u001b[0m \u001b[0mJapanese\u001b[0m\u001b[0;34m,\u001b[0m \u001b[0mNorwegian\u001b[0m\u001b[0;34m)\u001b[0m \u001b[0;32min\u001b[0m \u001b[0mc\u001b[0m\u001b[0;34m(\u001b[0m\u001b[0morderings\u001b[0m\u001b[0;34m)\u001b[0m\u001b[0;34m\u001b[0m\u001b[0m\n",
      "\u001b[0;32m<ipython-input-4-231a52b00d3a>\u001b[0m in \u001b[0;36m<genexpr>\u001b[0;34m(***failed resolving arguments***)\u001b[0m\n\u001b[1;32m      3\u001b[0m     \u001b[0mhouses\u001b[0m \u001b[0;34m=\u001b[0m \u001b[0mfirst\u001b[0m\u001b[0;34m,\u001b[0m \u001b[0m_\u001b[0m\u001b[0;34m,\u001b[0m \u001b[0mmiddle\u001b[0m\u001b[0;34m,\u001b[0m \u001b[0m_\u001b[0m\u001b[0;34m,\u001b[0m \u001b[0m_\u001b[0m \u001b[0;34m=\u001b[0m \u001b[0;34m[\u001b[0m\u001b[0;36m1\u001b[0m\u001b[0;34m,\u001b[0m\u001b[0;36m2\u001b[0m\u001b[0;34m,\u001b[0m\u001b[0;36m3\u001b[0m\u001b[0;34m,\u001b[0m\u001b[0;36m4\u001b[0m\u001b[0;34m,\u001b[0m\u001b[0;36m5\u001b[0m\u001b[0;34m]\u001b[0m\u001b[0;34m\u001b[0m\u001b[0m\n\u001b[1;32m      4\u001b[0m     \u001b[0morderings\u001b[0m \u001b[0;34m=\u001b[0m \u001b[0mlist\u001b[0m\u001b[0;34m(\u001b[0m\u001b[0mitertools\u001b[0m\u001b[0;34m.\u001b[0m\u001b[0mpermutations\u001b[0m\u001b[0;34m(\u001b[0m\u001b[0mhouses\u001b[0m\u001b[0;34m)\u001b[0m\u001b[0;34m)\u001b[0m \u001b[0;31m#1\u001b[0m\u001b[0;34m\u001b[0m\u001b[0m\n\u001b[0;32m----> 5\u001b[0;31m     return next((WATER, ZEBRA)\n\u001b[0m\u001b[1;32m      6\u001b[0m                \u001b[0;32mfor\u001b[0m \u001b[0;34m(\u001b[0m\u001b[0mred\u001b[0m\u001b[0;34m,\u001b[0m \u001b[0mgreen\u001b[0m\u001b[0;34m,\u001b[0m \u001b[0mivory\u001b[0m\u001b[0;34m,\u001b[0m \u001b[0myellow\u001b[0m\u001b[0;34m,\u001b[0m \u001b[0mblue\u001b[0m\u001b[0;34m)\u001b[0m \u001b[0;32min\u001b[0m \u001b[0mc\u001b[0m\u001b[0;34m(\u001b[0m\u001b[0morderings\u001b[0m\u001b[0;34m)\u001b[0m\u001b[0;34m\u001b[0m\u001b[0m\n\u001b[1;32m      7\u001b[0m                \u001b[0;32mif\u001b[0m \u001b[0mimright\u001b[0m\u001b[0;34m(\u001b[0m\u001b[0mgreen\u001b[0m\u001b[0;34m,\u001b[0m \u001b[0mivory\u001b[0m\u001b[0;34m)\u001b[0m\u001b[0;34m\u001b[0m\u001b[0m\n",
      "\u001b[0;32m<ipython-input-3-353724c78339>\u001b[0m in \u001b[0;36mc\u001b[0;34m(sequence)\u001b[0m\n\u001b[1;32m      2\u001b[0m     \"\"\"Generate items in sequence; keeping counts as we go. c.starts is the\n\u001b[1;32m      3\u001b[0m     number of sequences started; c.items is the number of items genreated.\"\"\"\n\u001b[0;32m----> 4\u001b[0;31m     \u001b[0mc\u001b[0m\u001b[0;34m.\u001b[0m\u001b[0mstarts\u001b[0m \u001b[0;34m+=\u001b[0m \u001b[0;36m1\u001b[0m\u001b[0;34m\u001b[0m\u001b[0m\n\u001b[0m\u001b[1;32m      5\u001b[0m     \u001b[0;32mfor\u001b[0m \u001b[0mitem\u001b[0m \u001b[0;32min\u001b[0m \u001b[0msequence\u001b[0m\u001b[0;34m:\u001b[0m\u001b[0;34m\u001b[0m\u001b[0m\n\u001b[1;32m      6\u001b[0m         \u001b[0mc\u001b[0m\u001b[0;34m.\u001b[0m\u001b[0mitems\u001b[0m \u001b[0;34m+=\u001b[0m \u001b[0;36m1\u001b[0m\u001b[0;34m\u001b[0m\u001b[0m\n",
      "\u001b[0;31mAttributeError\u001b[0m: 'function' object has no attribute 'starts'"
     ]
    }
   ],
   "source": [
    "import time\n",
    "\n",
    "def timedcall(fn, *args):\n",
    "    \"Call function with args; return the time in seconds and result.\"\n",
    "    t0 = time.clock()\n",
    "    result = fn(*args)\n",
    "    t1 = time.clock()\n",
    "    return t1-t0, result\n",
    "\n",
    "def timedcalls(n, fn, *args):\n",
    "    \"\"\"Call fn(*args) repeatedly: n times if n is an int, or up to\n",
    "    n seconds if n is a float; return the min, avg, and max time.\"\"\"\n",
    "    if isinstance(n, int):\n",
    "        times = [timedcall(fn, *args)[0] for _ in range(n)]\n",
    "    else:\n",
    "        times = []\n",
    "        while sum(times) <= n:\n",
    "            times.append(timedcall(fn, *args)[0])\n",
    "    return min(times), average(times), max(times)\n",
    "\n",
    "def average(numbers):\n",
    "    \"Return the average (arithmetic mean) of a sequence of numbers.\"\n",
    "    return sum(numbers) / float(len(numbers))\n",
    "\n",
    "print(timedcalls(1.1, zero_puzzle))\n",
    "\n",
    "def instrument_fn(fn, *args):\n",
    "    c.starts, c.items = 0, 0\n",
    "    result = fn(*args)\n",
    "    print('%s got %s with %5d iters over %7d times' % (\n",
    "    fn.__name__, result, c.starts, c.items) )"
   ]
  },
  {
   "cell_type": "code",
   "execution_count": null,
   "metadata": {
    "collapsed": true
   },
   "outputs": [],
   "source": [
    "# *args\n",
    "# def something(fn, *args)\n",
    "# something(f, 1, 2, 3) --> args => (1,2,3)\n",
    "# fn(*args) --> fn(1,2,3)"
   ]
  },
  {
   "cell_type": "code",
   "execution_count": 23,
   "metadata": {},
   "outputs": [],
   "source": [
    "# generator expressions\n",
    "# return promise to do computation later\n",
    "def sq(x):\n",
    "    print('sq called', x)\n",
    "    return x * x\n",
    "\n",
    "g = (sq(x) for x in range(10) if x%2 == 0)"
   ]
  },
  {
   "cell_type": "code",
   "execution_count": 61,
   "metadata": {},
   "outputs": [
    {
     "data": {
      "text/plain": [
       "[]"
      ]
     },
     "execution_count": 61,
     "metadata": {},
     "output_type": "execute_result"
    }
   ],
   "source": [
    "list(g)"
   ]
  },
  {
   "cell_type": "code",
   "execution_count": 68,
   "metadata": {
    "collapsed": true
   },
   "outputs": [],
   "source": [
    "# generator functions\n",
    "def ints(start, end=None):\n",
    "    i = start\n",
    "    while end is None or i <= end:\n",
    "        yield i\n",
    "        i = i + 1\n",
    "        \n",
    "def all_ints():\n",
    "    \"Generator integers in the order 0, +1, -1, +2, -2, +3, -3, ...\"\n",
    "    i = 0\n",
    "    while True:\n",
    "        if i is 0:\n",
    "            yield i\n",
    "        else:\n",
    "            yield +i\n",
    "            yield -i\n",
    "        i = i + 1\n",
    "        \n",
    "def novig_all_ints():\n",
    "    yield 0\n",
    "    for i in ints(1):\n",
    "        yield +i\n",
    "        yield -1\n",
    "    "
   ]
  },
  {
   "cell_type": "code",
   "execution_count": 69,
   "metadata": {},
   "outputs": [
    {
     "ename": "NameError",
     "evalue": "name 'b' is not defined",
     "output_type": "error",
     "traceback": [
      "\u001b[0;31m---------------------------------------------------------------------------\u001b[0m",
      "\u001b[0;31mNameError\u001b[0m                                 Traceback (most recent call last)",
      "\u001b[0;32m<ipython-input-69-f5dc058191c6>\u001b[0m in \u001b[0;36m<module>\u001b[0;34m()\u001b[0m\n\u001b[0;32m----> 1\u001b[0;31m \u001b[0mb\u001b[0m\u001b[0;34m.\u001b[0m\u001b[0mitems\u001b[0m \u001b[0;34m=\u001b[0m \u001b[0;36m1\u001b[0m\u001b[0;34m\u001b[0m\u001b[0m\n\u001b[0m",
      "\u001b[0;31mNameError\u001b[0m: name 'b' is not defined"
     ]
    }
   ],
   "source": [
    "b.items = 1"
   ]
  },
  {
   "cell_type": "code",
   "execution_count": null,
   "metadata": {
    "collapsed": true
   },
   "outputs": [],
   "source": []
  }
 ],
 "metadata": {
  "kernelspec": {
   "display_name": "Python 2",
   "language": "python",
   "name": "python2"
  },
  "language_info": {
   "codemirror_mode": {
    "name": "ipython",
    "version": 2
   },
   "file_extension": ".py",
   "mimetype": "text/x-python",
   "name": "python",
   "nbconvert_exporter": "python",
   "pygments_lexer": "ipython2",
   "version": "2.7.14"
  }
 },
 "nbformat": 4,
 "nbformat_minor": 2
}
