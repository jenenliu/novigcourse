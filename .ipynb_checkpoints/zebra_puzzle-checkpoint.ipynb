{
 "cells": [
  {
   "cell_type": "code",
   "execution_count": 27,
   "metadata": {
    "collapsed": true
   },
   "outputs": [],
   "source": [
    "import itertools"
   ]
  },
  {
   "cell_type": "code",
   "execution_count": 28,
   "metadata": {
    "collapsed": true
   },
   "outputs": [],
   "source": [
    "def imright(h1, h2):\n",
    "    \"House h1 is immediately right of h2 if h1-h2 == 1.\"\n",
    "    return h1-h2 == 1\n",
    "\n",
    "def nextto(h1, h2):\n",
    "    \"Two houses are next to each other if they differ by 1.\"\n",
    "    return abs(h1-h2) == 1"
   ]
  },
  {
   "cell_type": "code",
   "execution_count": 29,
   "metadata": {},
   "outputs": [
    {
     "name": "stdout",
     "output_type": "stream",
     "text": [
      "(1, 5)\n"
     ]
    }
   ],
   "source": [
    "def zero_puzzle():\n",
    "    \"Return a tuple (WATER, ZEBRA) indicating their house numbers.\"\n",
    "    houses = first, _, middle, _, _ = [1,2,3,4,5]\n",
    "    orderings = list(itertools.permutations(houses)) #1\n",
    "    return next((WATER, ZEBRA)\n",
    "               for (red, green, ivory, yellow, blue) in orderings\n",
    "               if imright(green, ivory)\n",
    "               for (Englishman, Spaniard, Ukranian, Japanese, Norwegian) in orderings\n",
    "               if Englishman is red\n",
    "               if Norwegian is first\n",
    "               if nextto(Norwegian, blue)\n",
    "               for (dog, snails, fox, horse, ZEBRA) in orderings\n",
    "               if Spaniard is dog\n",
    "               for (coffee, tea, milk, oj, WATER) in orderings\n",
    "               if coffee is green\n",
    "               if Ukranian is tea\n",
    "               if milk is middle\n",
    "               for (OldGold, Kools, Chesterfields, LuckyStrike, Parliaments) in orderings\n",
    "               if OldGold is snails\n",
    "               if Kools is yellow\n",
    "               if nextto(Chesterfields, fox)\n",
    "               if nextto(Kools, horse)\n",
    "               if LuckyStrike is oj\n",
    "               )"
   ]
  },
  {
   "cell_type": "code",
   "execution_count": 36,
   "metadata": {},
   "outputs": [
    {
     "name": "stdout",
     "output_type": "stream",
     "text": [
      "(0.0009049999999999336, (1, 5))\n"
     ]
    }
   ],
   "source": [
    "import time\n",
    "\n",
    "def timedcall(fn, *args):\n",
    "    \"Call function with args; return the time in seconds and result.\"\n",
    "    t0 = time.clock()\n",
    "    result = fn(*args)\n",
    "    t1 = time.clock()\n",
    "    return t1-t0, result\n",
    "\n",
    "print(timedcall(zero_puzzle))"
   ]
  },
  {
   "cell_type": "code",
   "execution_count": null,
   "metadata": {
    "collapsed": true
   },
   "outputs": [],
   "source": [
    "# *args\n",
    "# def something(fn, *args)\n",
    "# something(f, 1, 2, 3) --> args => (1,2,3)\n",
    "# fn(*args) --> fn(1,2,3)"
   ]
  },
  {
   "cell_type": "code",
   "execution_count": 23,
   "metadata": {},
   "outputs": [],
   "source": [
    "# generator expressions\n",
    "# return promise to do computation later\n",
    "def sq(x):\n",
    "    print('sq called', x)\n",
    "    return x * x\n",
    "\n",
    "g = (sq(x) for x in range(10) if x%2 == 0)"
   ]
  },
  {
   "cell_type": "code",
   "execution_count": 24,
   "metadata": {},
   "outputs": [
    {
     "name": "stdout",
     "output_type": "stream",
     "text": [
      "sq called 0\n",
      "sq called 2\n",
      "sq called 4\n",
      "sq called 6\n",
      "sq called 8\n"
     ]
    },
    {
     "data": {
      "text/plain": [
       "[0, 4, 16, 36, 64]"
      ]
     },
     "execution_count": 24,
     "metadata": {},
     "output_type": "execute_result"
    }
   ],
   "source": [
    "list(g)"
   ]
  }
 ],
 "metadata": {
  "kernelspec": {
   "display_name": "Python 3",
   "language": "python",
   "name": "python3"
  },
  "language_info": {
   "codemirror_mode": {
    "name": "ipython",
    "version": 3
   },
   "file_extension": ".py",
   "mimetype": "text/x-python",
   "name": "python",
   "nbconvert_exporter": "python",
   "pygments_lexer": "ipython3",
   "version": "3.6.3"
  }
 },
 "nbformat": 4,
 "nbformat_minor": 2
}
