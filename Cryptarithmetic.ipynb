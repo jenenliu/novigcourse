{
 "cells": [
  {
   "cell_type": "code",
   "execution_count": 4,
   "metadata": {},
   "outputs": [
    {
     "data": {
      "text/plain": [
       "True"
      ]
     },
     "execution_count": 4,
     "metadata": {},
     "output_type": "execute_result"
    }
   ],
   "source": [
    "# python string translation table\n",
    "import string\n",
    "table = string.maketrans('ABC', '123')\n",
    "f = 'A + B == C'\n",
    "f.translate(table)\n",
    "eval(f.translate(table))"
   ]
  },
  {
   "cell_type": "code",
   "execution_count": 19,
   "metadata": {},
   "outputs": [
    {
     "name": "stdout",
     "output_type": "stream",
     "text": [
      "655 + 655 == 1310\n",
      "855 + 855 == 1710\n"
     ]
    }
   ],
   "source": [
    "from __future__ import division\n",
    "import re, itertools\n",
    "\n",
    "def valid(f):\n",
    "    \"Formula f is valid if it has no numbers with leading zero, and evals true.\"\n",
    "    try:\n",
    "        return not re.search(r'\\b0[0-9]', f) and eval(f) is True\n",
    "    except ArithmeticError:\n",
    "        return False\n",
    "    \n",
    "def fill_in(formula):\n",
    "    \"\"\"Generate all possible fillings-in of letters in formula with digits.\"\"\"\n",
    "    letters = ''.join(set(c for c in formula if c.isalpha()))\n",
    "#     novig solution\n",
    "#     letters = ''.join(set(re.findall('[A-Z]', formula)))\n",
    "    for digits in itertools.permutations('1234567890', len(letters)):\n",
    "        table = string.maketrans(letters, ''.join(digits))\n",
    "        yield formula.translate(table)\n",
    "    \n",
    "def solve(formula):\n",
    "    \"\"\"Give a formula like 'ODD + ODD == EVEN', fill in digits to solve it.\n",
    "    Input formula is a string; output is a digit-filled-in string or None.\"\"\"\n",
    "    for f in fill_in(formula):\n",
    "        if valid(f):\n",
    "            print f\n",
    "    \n",
    "solve('ODD + ODD == EVEN')"
   ]
  },
  {
   "cell_type": "code",
   "execution_count": 20,
   "metadata": {},
   "outputs": [
    {
     "data": {
      "text/plain": [
       "'STR'"
      ]
     },
     "execution_count": 20,
     "metadata": {},
     "output_type": "execute_result"
    }
   ],
   "source": [
    "# inprove speed\n",
    "def compile_word(word):\n",
    "    \"\"\"Compile a word of uppercase letters as numeric digits.\n",
    "    E.g., compile_word('YOU') => '(1*U+10*O+100*Y)'\n",
    "    Non-uppercase words unchanged: compile_word('+') => '+'\"\"\"\n",
    "    if word.isupper():\n",
    "        terms = [('%s*%s' % (10**i, d))\n",
    "                for (i, d) in enumerate(word[::-1])]\n",
    "        return '(' + '+'.join(terms) + ')'\n",
    "    else:\n",
    "        return word"
   ]
  }
 ],
 "metadata": {
  "kernelspec": {
   "display_name": "Python 2",
   "language": "python",
   "name": "python2"
  },
  "language_info": {
   "codemirror_mode": {
    "name": "ipython",
    "version": 2
   },
   "file_extension": ".py",
   "mimetype": "text/x-python",
   "name": "python",
   "nbconvert_exporter": "python",
   "pygments_lexer": "ipython2",
   "version": "2.7.14"
  }
 },
 "nbformat": 4,
 "nbformat_minor": 2
}
